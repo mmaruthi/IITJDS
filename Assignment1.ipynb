{
  "nbformat": 4,
  "nbformat_minor": 0,
  "metadata": {
    "colab": {
      "name": "Untitled1.ipynb",
      "provenance": [],
      "authorship_tag": "ABX9TyMCJonhytv9KnCgvCXzzY3a",
      "include_colab_link": true
    },
    "kernelspec": {
      "name": "python3",
      "display_name": "Python 3"
    }
  },
  "cells": [
    {
      "cell_type": "markdown",
      "metadata": {
        "id": "view-in-github",
        "colab_type": "text"
      },
      "source": [
        "<a href=\"https://colab.research.google.com/github/mmaruthi/IITJDS/blob/main/Assignment1.ipynb\" target=\"_parent\"><img src=\"https://colab.research.google.com/assets/colab-badge.svg\" alt=\"Open In Colab\"/></a>"
      ]
    },
    {
      "cell_type": "markdown",
      "metadata": {
        "id": "lpXZvmFkrxRr"
      },
      "source": [
        "Data Structures Assignment 1\r\n",
        "\r\n",
        "Q1. Alice has some cards with numbers written on them. She arranges the cards in decreasing order. She challenges Bob to pick out the card containing number 120 by turning over as few cards as possible. Write a recursive function to help Bob locate the card containing number 120. Show assumptions and actions step by step. The numbers on card are as below.\r\n",
        "10 34 48 59 63 74 85 120 140\r\n",
        "\r\n",
        "Write an algorithm or programming code in any preferable language (using\r\n",
        "C/C++/Java/Python) and also give dry run for the same (Take any example\r\n",
        "of your choice for dry run)."
      ]
    },
    {
      "cell_type": "code",
      "metadata": {
        "colab": {
          "base_uri": "https://localhost:8080/"
        },
        "id": "eDq_KfFpsbBQ",
        "outputId": "ac21124f-a98f-46e6-dd9d-0bec98a1fcb2"
      },
      "source": [
        "# I studied multiple options to work on the solution \r\n",
        "# Studied Linear Search , Binary Search, Quick Sort etc \r\n",
        "# Of all the options I observed that Binary Search is giving a less time consuming result as the data is already sorted\r\n",
        "# So I am implementing Binary Search \r\n",
        "\r\n",
        "# Binary Search (Pesudo Code) \r\n",
        "#Compare the required number with the middle number.\r\n",
        "#If required number matches with the middle number, we return the mid index.\r\n",
        "#If required number is greater than the middle number, then target can only lie in the right (greater) half subarray after the mid element. Then we apply the algorithm again for the right half.\r\n",
        "#If required number is smaller, the target  must lie in the left (lower) half. So we apply the algorithm for the left half.\r\n",
        "\r\n",
        "\r\n",
        "#Code \r\n",
        "\r\n",
        "# Returns index of x in arr if present, else -1\r\n",
        "def recur_binary(arr, lowindex, highindex, x):\r\n",
        " \r\n",
        "    # calculate the middle index\r\n",
        "    if highindex >= lowindex:\r\n",
        " \r\n",
        "        midindex = (highindex + lowindex) // 2\r\n",
        " \r\n",
        "        # If element is present at the middle itself , we arrived at solution\r\n",
        "        if arr[midindex] == x:\r\n",
        "            return midindex\r\n",
        " \r\n",
        "        # If element is smaller than mid, repeat the function for left half\r\n",
        "        elif arr[midindex] > x:\r\n",
        "            return recur_binary(arr, lowindex, midindex - 1, x)\r\n",
        " \r\n",
        "        # Else repeat the function for right half\r\n",
        "        else:\r\n",
        "            return recur_binary(arr, midindex + 1, highindex, x)\r\n",
        " \r\n",
        "    else:\r\n",
        "        # Element is not present in the array\r\n",
        "        return -1\r\n",
        " \r\n",
        "#Array \r\n",
        "arr = [10, 34, 48, 59, 63, 74, 85, 120, 140]\r\n",
        "x = 120\r\n",
        " \r\n",
        "# Function call\r\n",
        "result = recur_binary(arr, 0, len(arr)-1, x)\r\n",
        " \r\n",
        "if result != -1:\r\n",
        "    print(\"Element is present at index\", str(result))\r\n",
        "else:\r\n",
        "    print(\"Element is not present in array\")\r\n"
      ],
      "execution_count": 3,
      "outputs": [
        {
          "output_type": "stream",
          "text": [
            "Element is present at index 7\n"
          ],
          "name": "stdout"
        }
      ]
    },
    {
      "cell_type": "markdown",
      "metadata": {
        "id": "tTYzLHaFxqn6"
      },
      "source": [
        "Q2. Modify Binary Search such that integer overflow problem during calculation of mid = (high+low)/2 does not occur \r\n"
      ]
    },
    {
      "cell_type": "code",
      "metadata": {
        "colab": {
          "base_uri": "https://localhost:8080/"
        },
        "id": "Si7d89CIyCqZ",
        "outputId": "dc92817c-c6a5-4d9d-d004-55f015dc9e68"
      },
      "source": [
        "# I will implement the same Binary Search as like the aabove \r\n",
        "# But to overcome the problem of overflow , I will change the calculation of midindex a little as below \r\n",
        "\r\n",
        "# midindex = lowindex + (highindex-lowindex)/2\r\n",
        "\r\n",
        "#code\r\n",
        "\r\n",
        "# Returns index of x in arr if present, else -1\r\n",
        "def recur_binary(arr, lowindex, highindex, x):\r\n",
        " \r\n",
        "    # calculate the middle index\r\n",
        "    if highindex >= lowindex:\r\n",
        " \r\n",
        "        midindex = lowindex + ((highindex - lowindex) // 2)\r\n",
        " \r\n",
        "        # If element is present at the middle itself , we arrived at solution\r\n",
        "        if arr[midindex] == x:\r\n",
        "            return midindex\r\n",
        " \r\n",
        "        # If element is smaller than mid, repeat the function for left half\r\n",
        "        elif arr[midindex] > x:\r\n",
        "            return recur_binary(arr, lowindex, midindex - 1, x)\r\n",
        " \r\n",
        "        # Else repeat the function for right half\r\n",
        "        else:\r\n",
        "            return recur_binary(arr, midindex + 1, highindex, x)\r\n",
        " \r\n",
        "    else:\r\n",
        "        # Element is not present in the array\r\n",
        "        return -1\r\n",
        " \r\n",
        "#Array \r\n",
        "arr = [10, 34, 48, 59, 63, 74, 85, 120, 140]\r\n",
        "x = 120\r\n",
        " \r\n",
        "# Function call\r\n",
        "result = recur_binary(arr, 0, len(arr)-1, x)\r\n",
        " \r\n",
        "if result != -1:\r\n",
        "    print(\"Element is present at index\", str(result))\r\n",
        "else:\r\n",
        "    print(\"Element is not present in array\")\r\n"
      ],
      "execution_count": 4,
      "outputs": [
        {
          "output_type": "stream",
          "text": [
            "Element is present at index 7\n"
          ],
          "name": "stdout"
        }
      ]
    },
    {
      "cell_type": "markdown",
      "metadata": {
        "id": "zkitXUi_y2JY"
      },
      "source": [
        "Given a group of n (index: 0-n-1) marbles, all marbles have a specific number based on their type. These marbles are stored in an array. Find the marble type [] which has occurred maximum times in an array"
      ]
    },
    {
      "cell_type": "code",
      "metadata": {
        "colab": {
          "base_uri": "https://localhost:8080/"
        },
        "id": "6kbiO0Q-y3TU",
        "outputId": "f8b26ba8-d4bc-4e1e-f0c0-d63106d6b07e"
      },
      "source": [
        "arr = [1,8,3,8,5,8,6,3,8,4,8]# Marbles\r\n",
        "max_count=0# create a varibale to get the maximum count of each type variable in array\r\n",
        "a=0\r\n",
        "for i in range(0,len(arr)): \r\n",
        "    count=0# assign count o in the starting of inner loop is that marble type count can update.\r\n",
        "    for j in range(0,len(arr)):# selected outer loop element were compare with each element of inner and count updated accordingly\r\n",
        "        if arr[j]==arr[i]:\r\n",
        "            count=count+1\r\n",
        "            \r\n",
        "    if count>max_count:# if count value exceed the max_count we will update the max_count\r\n",
        "                \r\n",
        "        max_count=count\r\n",
        "        a=arr[i]\r\n",
        "print(\"Marble type  is {}\".format(a))\r\n",
        "print(\"This marble is present has occurence of {}\".format(max_count))"
      ],
      "execution_count": 8,
      "outputs": [
        {
          "output_type": "stream",
          "text": [
            "Marble type  is 8\n",
            "This marble is present has occurence of 5\n"
          ],
          "name": "stdout"
        }
      ]
    },
    {
      "cell_type": "code",
      "metadata": {
        "id": "gwP7a5gJ0BFg"
      },
      "source": [
        "A Memory block with size of 4 GB having sentence [String] in each line needs to be arranged.\r\n",
        "What would be an efficient way to solve this problem?\r\n",
        "\r\n",
        "we can use any of this according to our need:\r\n",
        "\r\n",
        "1- use virtual machine\r\n",
        "2- Increase your Main memory size.\r\n",
        "\r\n",
        "If above two option not work,than we can use any of the below option.\r\n",
        "\r\n",
        "We can divide the 4GB in to part and get arrange in untill memory get filled,Than arrange them in priority order. 2-Chunking: Divide the data into chunks and process it one by one. 3-Indexing: Indexing can also be used to process data one by one using the index value.\r\n",
        "\r\n"
      ],
      "execution_count": null,
      "outputs": []
    }
  ]
}