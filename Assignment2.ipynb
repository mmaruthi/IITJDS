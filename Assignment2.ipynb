{
  "nbformat": 4,
  "nbformat_minor": 0,
  "metadata": {
    "colab": {
      "name": "Untitled5.ipynb",
      "provenance": [],
      "authorship_tag": "ABX9TyML21AQa2aNJDW2ktHvIAZD",
      "include_colab_link": true
    },
    "kernelspec": {
      "name": "python3",
      "display_name": "Python 3"
    },
    "language_info": {
      "name": "python"
    }
  },
  "cells": [
    {
      "cell_type": "markdown",
      "metadata": {
        "id": "view-in-github",
        "colab_type": "text"
      },
      "source": [
        "<a href=\"https://colab.research.google.com/github/mmaruthi/IITJDS/blob/main/Assignment2.ipynb\" target=\"_parent\"><img src=\"https://colab.research.google.com/assets/colab-badge.svg\" alt=\"Open In Colab\"/></a>"
      ]
    },
    {
      "cell_type": "markdown",
      "metadata": {
        "id": "W1cCTHKU_XAx"
      },
      "source": [
        "M20AIE253 - Assignment 2 \n",
        "\n",
        "Qsn1 "
      ]
    },
    {
      "cell_type": "code",
      "metadata": {
        "colab": {
          "base_uri": "https://localhost:8080/"
        },
        "id": "_IeFUV9cFlyf",
        "outputId": "088adfff-f43d-42c9-bc73-8851b6435bb5"
      },
      "source": [
        "A=[]\n",
        "N=int(input(\"No of students : \")) # No of students\n",
        "s1=int(input(\"size of the list : \")) # size of the list\n",
        "print(\"enter the roll number of students who gave blood\")\n",
        "for i in range(s1):                         # take input for stack element\n",
        "    A.append(int(input()))\n",
        "print(\"roll number of students As per the required order\")\n",
        "\n",
        "B=[]\n",
        "i=0\n",
        "k=0\n",
        "B.append(A[i])\n",
        "while i<s1:\n",
        "    if B.count(B[k])==1:# This loop will count whether the element is repeated or not\n",
        "        print(B[k])\n",
        "        i=i+1\n",
        "        if i<s1:\n",
        "            B.append(A[i])\n",
        "    elif B.count(B[k])!=1:\n",
        "        k=k+1\n",
        "        if k==len(B):  # This condition is for ,if all the previos element is already printed than we will print the 0 for upcomming repeated element.\n",
        "            print('0')\n",
        "            i=i+1\n",
        "            if i<s1:\n",
        "                B.append(A[i])"
      ],
      "execution_count": 7,
      "outputs": [
        {
          "output_type": "stream",
          "text": [
            "No of students : 7\n",
            "size of the list : 10\n",
            "enter the roll number of students who gave blood\n",
            "2\n",
            "1\n",
            "3\n",
            "5\n",
            "2\n",
            "4\n",
            "6\n",
            "3\n",
            "1\n",
            "7\n",
            "roll number of students As per the required order\n",
            "2\n",
            "2\n",
            "2\n",
            "2\n",
            "1\n",
            "1\n",
            "1\n",
            "1\n",
            "5\n",
            "5\n"
          ],
          "name": "stdout"
        }
      ]
    },
    {
      "cell_type": "markdown",
      "metadata": {
        "id": "cmiUs70oHP58"
      },
      "source": [
        "QSN -- 2"
      ]
    },
    {
      "cell_type": "code",
      "metadata": {
        "colab": {
          "base_uri": "https://localhost:8080/"
        },
        "id": "pMwg8CQ0HRbL",
        "outputId": "7a44423b-2c06-4a10-f40e-6865d77d7315"
      },
      "source": [
        "from collections import deque # import deque module -stack operations\n",
        "stack1 = deque() # stack define\n",
        "stack2=[] # stack 2 and 3 stack were initialize for later operation\n",
        "stack3=[]\n",
        "O=[]\n",
        "\n",
        "N=int(input(\"enter size of the stack : \")) # number of element in a stack\n",
        "print(\"enter the stack element sequecnes N times\")\n",
        "for i in range(N):                         # take input for stack element\n",
        "    stack1.append(int(input()))\n",
        "\n",
        "print(\"enter order sequence N times\")\n",
        "for i in range(N):\n",
        "     O.append(int(input()))               # take input for sequence stack\n",
        "\n",
        "print(stack1)  \n",
        "for j in range(N):\n",
        "         \n",
        "        if stack1[-1]==O[j]:              # compare last value of stack \n",
        "            stack2.append(stack1.pop())         #stack 2 , else in stack 3\n",
        "        else:\n",
        "            stack3.append(stack1.pop())\n",
        "\n",
        "for k in range(len(stack3)):               # append the stack 3 value into stack 2\n",
        "    stack2.append(stack3.pop())\n",
        "\n",
        "if stack2 == O:                         # compare the stack 2 with given order sequence stack,if found same than yes ,else No.\n",
        "    print(\"yes\")\n",
        "else:\n",
        "    print(\"no\")\n",
        "\n"
      ],
      "execution_count": 9,
      "outputs": [
        {
          "output_type": "stream",
          "text": [
            "enter size of the stack : 5\n",
            "enter the stack element sequecnes N times\n",
            "5\n",
            "4\n",
            "3\n",
            "2\n",
            "1\n",
            "enter order sequence N times\n",
            "1\n",
            "2\n",
            "3\n",
            "4\n",
            "5\n",
            "deque([5, 4, 3, 2, 1])\n",
            "yes\n"
          ],
          "name": "stdout"
        }
      ]
    },
    {
      "cell_type": "markdown",
      "metadata": {
        "id": "t8GRgZbMKNPI"
      },
      "source": [
        "QSN -- 3"
      ]
    },
    {
      "cell_type": "code",
      "metadata": {
        "colab": {
          "base_uri": "https://localhost:8080/"
        },
        "id": "H5wdWq5XKPC3",
        "outputId": "f7b63620-8e87-45ae-dc09-128de447df41"
      },
      "source": [
        "from collections import deque\n",
        "stack1 = deque() # stack define\n",
        "O=[]\n",
        "N=int(input(\"enter size of the stack : \")) # number of element in a stack\n",
        "print(\"enter the stack element sequences N times\")\n",
        "for i in range(N):                         # take input for stack element\n",
        "    stack1.append(int(input()))\n",
        "print(\"enter order sequence N times\")\n",
        "for i in range(N):\n",
        "     O.append(int(input()))              \n",
        "\n",
        "stack2=[]\n",
        "delay=[]    \n",
        "count=0\n",
        "for i in range(N):\n",
        "    \n",
        "        if stack1[-1]==O[count]:\n",
        "            stack2.append(stack1.pop())\n",
        "            count=count+1\n",
        "        else:\n",
        "            delay.append(stack1.pop())\n",
        "for i in range(len(delay)):\n",
        "    \n",
        "    stack2.append(delay[i])\n",
        "print(stack2)\n",
        "if stack2==O:\n",
        "    print(\"yes\")\n",
        "else:\n",
        "    print(\"no\")"
      ],
      "execution_count": 11,
      "outputs": [
        {
          "output_type": "stream",
          "text": [
            "enter size of the stack : 5\n",
            "enter the stack element sequences N times\n",
            "5\n",
            "4\n",
            "3\n",
            "2\n",
            "1\n",
            "enter order sequence N times\n",
            "1\n",
            "2\n",
            "3\n",
            "4\n",
            "5\n",
            "[1, 2, 3, 4, 5]\n",
            "yes\n"
          ],
          "name": "stdout"
        }
      ]
    },
    {
      "cell_type": "markdown",
      "metadata": {
        "id": "mZE9srOwLBUW"
      },
      "source": [
        "QSN -- 4"
      ]
    },
    {
      "cell_type": "code",
      "metadata": {
        "colab": {
          "base_uri": "https://localhost:8080/"
        },
        "id": "Ch3QP19yLC1v",
        "outputId": "0f331218-09e9-4895-d10a-f6b69830ffb0"
      },
      "source": [
        "stack1=[]# create list \n",
        "N=int(input(\"enter size of the array : \"))\n",
        "print(\"enter the array element sequences N times\")\n",
        "for i in range(N):                         \n",
        "    stack1.append(int(input()))\n",
        "print(\"required range of values\")\n",
        "i=0\n",
        "k=i+1 # k intialize to be one index ahead than i\n",
        "while(i<N):\n",
        "   \n",
        "    if k<N:\n",
        "        if stack1[k]>stack1[i]:# ompare the right side larger elemet than the left element \n",
        "            print(stack1[k])\n",
        "            i+=1\n",
        "            k=i+1\n",
        "        \n",
        "        else:\n",
        "            k+=1 # if value will not find on right side element , repeat3\n",
        "    elif k==N:  # this condition is for the 'K elelement when it reaches to end elemt of array s1 but not find anything greater'\n",
        "        print(-1)\n",
        "        i+=1\n",
        "        k=i+1"
      ],
      "execution_count": 13,
      "outputs": [
        {
          "output_type": "stream",
          "text": [
            "enter size of the array : 10\n",
            "enter the array element sequences N times\n",
            "2\n",
            "1\n",
            "3\n",
            "5\n",
            "2\n",
            "4\n",
            "6\n",
            "3\n",
            "1\n",
            "7\n",
            "required range of values\n",
            "3\n",
            "3\n",
            "5\n",
            "6\n",
            "4\n",
            "6\n",
            "7\n",
            "7\n",
            "7\n",
            "-1\n"
          ],
          "name": "stdout"
        }
      ]
    }
  ]
}